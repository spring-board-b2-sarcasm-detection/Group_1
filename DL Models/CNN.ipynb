{
  "nbformat": 4,
  "nbformat_minor": 0,
  "metadata": {
    "colab": {
      "provenance": []
    },
    "kernelspec": {
      "name": "python3",
      "display_name": "Python 3"
    },
    "language_info": {
      "name": "python"
    }
  },
  "cells": [
    {
      "cell_type": "markdown",
      "source": [
        "# 1: Imports and Mounting Google Drive"
      ],
      "metadata": {
        "id": "A8yZ3w9atgqV"
      }
    },
    {
      "cell_type": "code",
      "source": [
        "import pandas as pd\n",
        "import numpy as np\n",
        "import re\n",
        "import nltk\n",
        "from nltk.tokenize import word_tokenize\n",
        "from sklearn.model_selection import train_test_split\n",
        "from sklearn.preprocessing import LabelEncoder\n",
        "from sklearn.feature_extraction.text import TfidfVectorizer\n",
        "from tensorflow.keras.models import Sequential\n",
        "from tensorflow.keras.layers import Conv1D, GlobalMaxPooling1D, Dense, Dropout\n",
        "from tensorflow.keras.preprocessing.sequence import pad_sequences\n",
        "\n",
        "# Download NLTK data for tokenization\n",
        "nltk.download('punkt')\n",
        "\n",
        "# Mount Google Drive to access the dataset\n",
        "from google.colab import drive\n",
        "drive.mount('/content/drive')\n"
      ],
      "metadata": {
        "colab": {
          "base_uri": "https://localhost:8080/"
        },
        "id": "-6TW4bAHrf1x",
        "outputId": "9ece4f15-0d3b-4e59-979c-9ef2cee49635"
      },
      "execution_count": null,
      "outputs": [
        {
          "output_type": "stream",
          "name": "stderr",
          "text": [
            "[nltk_data] Downloading package punkt to /root/nltk_data...\n",
            "[nltk_data]   Package punkt is already up-to-date!\n"
          ]
        },
        {
          "output_type": "stream",
          "name": "stdout",
          "text": [
            "Drive already mounted at /content/drive; to attempt to forcibly remount, call drive.mount(\"/content/drive\", force_remount=True).\n"
          ]
        }
      ]
    },
    {
      "cell_type": "markdown",
      "source": [
        "# 2: Loading and Preprocessing Data"
      ],
      "metadata": {
        "id": "PCIGguZEsiOW"
      }
    },
    {
      "cell_type": "code",
      "source": [
        "# Define the file path to the dataset in Google Drive\n",
        "file_path = '/content/drive/My Drive/train-balanced-sarcasm.csv'\n",
        "\n",
        "# Load the dataset into a pandas DataFrame\n",
        "df = pd.read_csv(file_path)\n",
        "\n",
        "# Reduce the dataset size to 1% for faster processing\n",
        "df = df.sample(frac=0.01, random_state=42)\n",
        "\n",
        "# Remove rows with NaN values in the 'comment' column\n",
        "df = df.dropna(subset=['comment'])\n",
        "\n",
        "# Ensure all comments are strings and handle NaN values\n",
        "df['comment'] = df['comment'].astype(str)\n",
        "df['comment'] = df['comment'].apply(lambda x: x if pd.notnull(x) else '')\n",
        "\n",
        "# Preprocessing function to clean and tokenize text\n",
        "def preprocess_text(text):\n",
        "    # Convert text to lowercase\n",
        "    text = text.lower()\n",
        "    # Remove punctuation and non-alphanumeric characters\n",
        "    text = re.sub(r'[^\\w\\s]', '', text)\n",
        "    # Tokenize text\n",
        "    tokens = word_tokenize(text)\n",
        "    # Join tokens back into a single string\n",
        "    return ' '.join(tokens)\n",
        "\n",
        "# Apply preprocessing to the 'comment' column\n",
        "df['processed_comment'] = df['comment'].apply(preprocess_text)\n",
        "\n",
        "# TF-IDF vectorization to convert text data into numerical features\n",
        "tfidf_vectorizer = TfidfVectorizer(max_features=2000)\n",
        "X_tfidf = tfidf_vectorizer.fit_transform(df['processed_comment']).toarray()\n",
        "\n",
        "# Encode labels into binary values (0 or 1)\n",
        "label_encoder = LabelEncoder()\n",
        "y_encoded = label_encoder.fit_transform(df['label'])\n",
        "\n",
        "# Split the data into training and testing sets\n",
        "X_train, X_test, y_train, y_test = train_test_split(X_tfidf, y_encoded, test_size=0.2, random_state=42)\n"
      ],
      "metadata": {
        "id": "YPMkht7msfFQ"
      },
      "execution_count": null,
      "outputs": []
    },
    {
      "cell_type": "markdown",
      "source": [
        "# 3: Reshaping Data and Building the Model"
      ],
      "metadata": {
        "id": "9GFQ4IF5spqw"
      }
    },
    {
      "cell_type": "code",
      "source": [
        "# Reshape data to fit the input shape required by CNN\n",
        "max_sequence_length = X_tfidf.shape[1]\n",
        "X_train_reshaped = X_train.reshape((X_train.shape[0], max_sequence_length, 1))\n",
        "X_test_reshaped = X_test.reshape((X_test.shape[0], max_sequence_length, 1))\n",
        "\n",
        "# Build the CNN model\n",
        "model = Sequential()\n",
        "model.add(Conv1D(filters=64, kernel_size=3, activation='relu', input_shape=(max_sequence_length, 1)))\n",
        "model.add(GlobalMaxPooling1D())\n",
        "model.add(Dropout(0.5))\n",
        "model.add(Dense(10, activation='relu'))\n",
        "model.add(Dropout(0.5))\n",
        "model.add(Dense(1, activation='sigmoid'))\n",
        "\n",
        "# Compile the model\n",
        "model.compile(optimizer='adam', loss='binary_crossentropy', metrics=['accuracy'])\n"
      ],
      "metadata": {
        "id": "V9rpHMkaskxi"
      },
      "execution_count": null,
      "outputs": []
    },
    {
      "cell_type": "markdown",
      "source": [
        "# 4: Training the Model"
      ],
      "metadata": {
        "id": "r-DCjqmpsuyn"
      }
    },
    {
      "cell_type": "code",
      "source": [
        "# Train the model\n",
        "history = model.fit(X_train_reshaped, y_train, epochs=2, batch_size=32, validation_data=(X_test_reshaped, y_test))\n"
      ],
      "metadata": {
        "colab": {
          "base_uri": "https://localhost:8080/"
        },
        "id": "8dscFfUBsrZV",
        "outputId": "b09facb6-b4ff-4f39-8842-e692ef8af085"
      },
      "execution_count": null,
      "outputs": [
        {
          "output_type": "stream",
          "name": "stdout",
          "text": [
            "Epoch 1/2\n",
            "253/253 [==============================] - 24s 85ms/step - loss: 0.6948 - accuracy: 0.5098 - val_loss: 0.6933 - val_accuracy: 0.4758\n",
            "Epoch 2/2\n",
            "253/253 [==============================] - 18s 71ms/step - loss: 0.6929 - accuracy: 0.5126 - val_loss: 0.6934 - val_accuracy: 0.4763\n"
          ]
        }
      ]
    },
    {
      "cell_type": "markdown",
      "source": [
        "# 5: Evaluating the Model and Generating Classification Report"
      ],
      "metadata": {
        "id": "tfz1Rakus0W2"
      }
    },
    {
      "cell_type": "code",
      "source": [
        "# Evaluate the model on the test data\n",
        "loss, accuracy = model.evaluate(X_test_reshaped, y_test)\n",
        "print(f'Accuracy: {accuracy:.4f}')\n",
        "\n",
        "# Generate a classification report\n",
        "from sklearn.metrics import classification_report\n",
        "\n",
        "y_pred = (model.predict(X_test_reshaped) > 0.5).astype(\"int32\")\n",
        "print(classification_report(y_test, y_pred))\n"
      ],
      "metadata": {
        "colab": {
          "base_uri": "https://localhost:8080/"
        },
        "id": "izodwpGhsxfK",
        "outputId": "8251ec8d-e5c5-4114-d68c-23f957259826"
      },
      "execution_count": null,
      "outputs": [
        {
          "output_type": "stream",
          "name": "stdout",
          "text": [
            "64/64 [==============================] - 2s 29ms/step - loss: 0.6934 - accuracy: 0.4763\n",
            "Accuracy: 0.4763\n",
            "64/64 [==============================] - 1s 21ms/step\n",
            "              precision    recall  f1-score   support\n",
            "\n",
            "           0       0.48      1.00      0.65       963\n",
            "           1       0.00      0.00      0.00      1059\n",
            "\n",
            "    accuracy                           0.48      2022\n",
            "   macro avg       0.24      0.50      0.32      2022\n",
            "weighted avg       0.23      0.48      0.31      2022\n",
            "\n"
          ]
        },
        {
          "output_type": "stream",
          "name": "stderr",
          "text": [
            "/usr/local/lib/python3.10/dist-packages/sklearn/metrics/_classification.py:1344: UndefinedMetricWarning: Precision and F-score are ill-defined and being set to 0.0 in labels with no predicted samples. Use `zero_division` parameter to control this behavior.\n",
            "  _warn_prf(average, modifier, msg_start, len(result))\n",
            "/usr/local/lib/python3.10/dist-packages/sklearn/metrics/_classification.py:1344: UndefinedMetricWarning: Precision and F-score are ill-defined and being set to 0.0 in labels with no predicted samples. Use `zero_division` parameter to control this behavior.\n",
            "  _warn_prf(average, modifier, msg_start, len(result))\n",
            "/usr/local/lib/python3.10/dist-packages/sklearn/metrics/_classification.py:1344: UndefinedMetricWarning: Precision and F-score are ill-defined and being set to 0.0 in labels with no predicted samples. Use `zero_division` parameter to control this behavior.\n",
            "  _warn_prf(average, modifier, msg_start, len(result))\n"
          ]
        }
      ]
    }
  ]
}