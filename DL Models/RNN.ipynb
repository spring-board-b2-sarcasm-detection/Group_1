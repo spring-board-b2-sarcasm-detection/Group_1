{
  "nbformat": 4,
  "nbformat_minor": 0,
  "metadata": {
    "colab": {
      "provenance": []
    },
    "kernelspec": {
      "name": "python3",
      "display_name": "Python 3"
    },
    "language_info": {
      "name": "python"
    }
  },
  "cells": [
    {
      "cell_type": "markdown",
      "source": [
        "# 1: Importing necessary libraries and modules\n"
      ],
      "metadata": {
        "id": "F6cT6IyBg28U"
      }
    },
    {
      "cell_type": "code",
      "source": [
        "# Part 1: Importing necessary libraries and modules\n",
        "\n",
        "import pandas as pd\n",
        "import numpy as np\n",
        "import re\n",
        "import nltk\n",
        "from nltk.tokenize import word_tokenize\n",
        "from sklearn.model_selection import train_test_split\n",
        "from sklearn.preprocessing import LabelEncoder\n",
        "from sklearn.feature_extraction.text import TfidfVectorizer\n",
        "from tensorflow.keras.models import Sequential\n",
        "from tensorflow.keras.layers import SimpleRNN, Dense, Dropout\n",
        "from tensorflow.keras.preprocessing.sequence import pad_sequences\n",
        "\n",
        "# Download NLTK data for tokenization\n",
        "nltk.download('punkt')\n"
      ],
      "metadata": {
        "colab": {
          "base_uri": "https://localhost:8080/"
        },
        "id": "uPWtVP1Pg-xf",
        "outputId": "0b0a0e73-9985-4c73-f831-d7cb1dbc6641"
      },
      "execution_count": 8,
      "outputs": [
        {
          "output_type": "stream",
          "name": "stderr",
          "text": [
            "[nltk_data] Downloading package punkt to /root/nltk_data...\n",
            "[nltk_data]   Package punkt is already up-to-date!\n"
          ]
        },
        {
          "output_type": "execute_result",
          "data": {
            "text/plain": [
              "True"
            ]
          },
          "metadata": {},
          "execution_count": 8
        }
      ]
    },
    {
      "cell_type": "markdown",
      "source": [
        "# 2: Mounting Google Drive and loading dataset"
      ],
      "metadata": {
        "id": "0NqI-tGrg9wM"
      }
    },
    {
      "cell_type": "code",
      "source": [
        "# Mount Google Drive to access the dataset\n",
        "from google.colab import drive\n",
        "drive.mount('/content/drive')\n",
        "\n",
        "# Define the file path to the dataset in Google Drive\n",
        "file_path = '/content/drive/My Drive/train-balanced-sarcasm.csv'\n",
        "\n",
        "# Load the dataset into a pandas DataFrame\n",
        "df = pd.read_csv(file_path)\n"
      ],
      "metadata": {
        "colab": {
          "base_uri": "https://localhost:8080/"
        },
        "id": "Tvd-aYDPfH6P",
        "outputId": "b7754da3-a139-44af-b1d2-a986ea5df4b0"
      },
      "execution_count": 9,
      "outputs": [
        {
          "output_type": "stream",
          "name": "stdout",
          "text": [
            "Drive already mounted at /content/drive; to attempt to forcibly remount, call drive.mount(\"/content/drive\", force_remount=True).\n"
          ]
        }
      ]
    },
    {
      "cell_type": "markdown",
      "source": [
        "# 3: Data preprocessing"
      ],
      "metadata": {
        "id": "gGqjGqHihrHG"
      }
    },
    {
      "cell_type": "code",
      "source": [
        "# Reduce the dataset size to 1% for faster processing\n",
        "df = df.sample(frac=0.01, random_state=42)\n",
        "\n",
        "# Remove rows with NaN values in the 'comment' column\n",
        "df = df.dropna(subset=['comment'])\n",
        "\n",
        "# Ensure all comments are strings and handle NaN values\n",
        "df['comment'] = df['comment'].astype(str)\n",
        "df['comment'] = df['comment'].apply(lambda x: x if pd.notnull(x) else '')\n",
        "\n",
        "# Preprocessing function to clean and tokenize text\n",
        "def preprocess_text(text):\n",
        "    # Convert text to lowercase\n",
        "    text = text.lower()\n",
        "    # Remove punctuation and non-alphanumeric characters\n",
        "    text = re.sub(r'[^\\w\\s]', '', text)\n",
        "    # Tokenize text\n",
        "    tokens = word_tokenize(text)\n",
        "    # Join tokens back into a single string\n",
        "    return ' '.join(tokens)\n",
        "\n",
        "# Apply preprocessing to the 'comment' column\n",
        "df['processed_comment'] = df['comment'].apply(preprocess_text)\n"
      ],
      "metadata": {
        "id": "M3tSyhi0fLqM"
      },
      "execution_count": 10,
      "outputs": []
    },
    {
      "cell_type": "markdown",
      "source": [
        "# 4: Feature extraction and data encoding\n"
      ],
      "metadata": {
        "id": "mMwzDmLChzJt"
      }
    },
    {
      "cell_type": "code",
      "source": [
        "# TF-IDF vectorization to convert text data into numerical features\n",
        "tfidf_vectorizer = TfidfVectorizer(max_features=2000)\n",
        "X_tfidf = tfidf_vectorizer.fit_transform(df['processed_comment']).toarray()\n",
        "\n",
        "# Encode labels into binary values (0 or 1)\n",
        "label_encoder = LabelEncoder()\n",
        "y_encoded = label_encoder.fit_transform(df['label'])\n",
        "\n",
        "# Split the data into training and testing sets\n",
        "X_train, X_test, y_train, y_test = train_test_split(X_tfidf, y_encoded, test_size=0.2, random_state=42)\n"
      ],
      "metadata": {
        "id": "Y3BQ6d1nfOAi"
      },
      "execution_count": 11,
      "outputs": []
    },
    {
      "cell_type": "markdown",
      "source": [
        "# 5: Building and training the RNN model, evaluation\n"
      ],
      "metadata": {
        "id": "kX9OXt8HiG2d"
      }
    },
    {
      "cell_type": "code",
      "source": [
        "# Reshape data to fit the input shape required by RNN\n",
        "max_sequence_length = X_tfidf.shape[1]\n",
        "X_train_reshaped = X_train.reshape((X_train.shape[0], max_sequence_length, 1))\n",
        "X_test_reshaped = X_test.reshape((X_test.shape[0], max_sequence_length, 1))\n",
        "\n",
        "# Build the RNN model\n",
        "model = Sequential()\n",
        "model.add(SimpleRNN(units=32, input_shape=(max_sequence_length, 1), return_sequences=False))  # RNN layer with 32 units\n",
        "model.add(Dropout(0.5))  # Dropout layer to prevent overfitting\n",
        "model.add(Dense(10, activation='relu'))  # Fully connected layer with ReLU activation\n",
        "model.add(Dropout(0.5))  # Another dropout layer\n",
        "model.add(Dense(1, activation='sigmoid'))  # Output layer with sigmoid activation for binary classification\n",
        "\n",
        "# Compile the model\n",
        "model.compile(optimizer='adam', loss='binary_crossentropy', metrics=['accuracy'])\n",
        "\n",
        "# Train the model\n",
        "history = model.fit(X_train_reshaped, y_train, epochs=2, batch_size=32, validation_data=(X_test_reshaped, y_test))\n",
        "\n",
        "# Evaluate the model on the test data\n",
        "loss, accuracy = model.evaluate(X_test_reshaped, y_test)\n",
        "print(f'Accuracy: {accuracy:.4f}')\n",
        "\n",
        "# Generate a classification report\n",
        "from sklearn.metrics import classification_report\n",
        "\n",
        "y_pred = (model.predict(X_test_reshaped) > 0.5).astype(\"int32\")\n",
        "print(classification_report(y_test, y_pred))\n"
      ],
      "metadata": {
        "colab": {
          "base_uri": "https://localhost:8080/"
        },
        "id": "q0c_IgY_fREG",
        "outputId": "d0eccf6d-f9ce-45a5-b0f3-1418e42a5026"
      },
      "execution_count": 12,
      "outputs": [
        {
          "output_type": "stream",
          "name": "stdout",
          "text": [
            "Epoch 1/2\n",
            "253/253 [==============================] - 99s 387ms/step - loss: 0.7035 - accuracy: 0.5046 - val_loss: 0.6941 - val_accuracy: 0.4990\n",
            "Epoch 2/2\n",
            "253/253 [==============================] - 110s 435ms/step - loss: 0.7149 - accuracy: 0.4998 - val_loss: 0.6930 - val_accuracy: 0.5232\n",
            "64/64 [==============================] - 8s 128ms/step - loss: 0.6930 - accuracy: 0.5232\n",
            "Accuracy: 0.5232\n",
            "64/64 [==============================] - 5s 82ms/step\n",
            "              precision    recall  f1-score   support\n",
            "\n",
            "           0       0.47      0.01      0.01       963\n",
            "           1       0.52      0.99      0.69      1059\n",
            "\n",
            "    accuracy                           0.52      2022\n",
            "   macro avg       0.50      0.50      0.35      2022\n",
            "weighted avg       0.50      0.52      0.37      2022\n",
            "\n"
          ]
        }
      ]
    },
    {
      "cell_type": "code",
      "source": [],
      "metadata": {
        "id": "2183Sn2ggDqB"
      },
      "execution_count": 12,
      "outputs": []
    }
  ]
}