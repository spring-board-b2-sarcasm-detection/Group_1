{
  "nbformat": 4,
  "nbformat_minor": 0,
  "metadata": {
    "colab": {
      "provenance": []
    },
    "kernelspec": {
      "name": "python3",
      "display_name": "Python 3"
    },
    "language_info": {
      "name": "python"
    }
  },
  "cells": [
    {
      "cell_type": "markdown",
      "source": [
        "# 1: Importing necessary libraries and downloading NLTK data\n"
      ],
      "metadata": {
        "id": "fVCXcWGYhbQg"
      }
    },
    {
      "cell_type": "code",
      "execution_count": null,
      "metadata": {
        "colab": {
          "base_uri": "https://localhost:8080/"
        },
        "id": "QczPCQLCfhI-",
        "outputId": "3c5f028a-890f-4113-a89c-51b31dbfbea3"
      },
      "outputs": [
        {
          "output_type": "stream",
          "name": "stderr",
          "text": [
            "[nltk_data] Downloading package punkt to /root/nltk_data...\n",
            "[nltk_data]   Unzipping tokenizers/punkt.zip.\n"
          ]
        },
        {
          "output_type": "execute_result",
          "data": {
            "text/plain": [
              "True"
            ]
          },
          "metadata": {},
          "execution_count": 1
        }
      ],
      "source": [
        "import pandas as pd\n",
        "import numpy as np\n",
        "import re\n",
        "import nltk\n",
        "from nltk.tokenize import word_tokenize\n",
        "from sklearn.model_selection import train_test_split\n",
        "from sklearn.preprocessing import LabelEncoder\n",
        "from tensorflow.keras.preprocessing.sequence import pad_sequences\n",
        "from tensorflow.keras.preprocessing.text import Tokenizer\n",
        "from tensorflow.keras.models import Sequential\n",
        "from tensorflow.keras.layers import LSTM, Dense, Embedding, Dropout\n",
        "from gensim.models import Word2Vec\n",
        "\n",
        "# Download NLTK data\n",
        "nltk.download('punkt')\n"
      ]
    },
    {
      "cell_type": "markdown",
      "source": [
        "# 2: Mounting Google Drive and loading the dataset\n"
      ],
      "metadata": {
        "id": "Qtpemygvhgbt"
      }
    },
    {
      "cell_type": "code",
      "source": [
        "from google.colab import drive\n",
        "\n",
        "# Mount Google Drive to access the dataset\n",
        "drive.mount('/content/drive')\n",
        "\n",
        "# Define the file path to the dataset in Google Drive\n",
        "file_path = '/content/drive/My Drive/train-balanced-sarcasm.csv'\n",
        "\n",
        "# Load the dataset into a pandas DataFrame\n",
        "df = pd.read_csv(file_path)\n"
      ],
      "metadata": {
        "colab": {
          "base_uri": "https://localhost:8080/"
        },
        "id": "dG7k-B53gdrS",
        "outputId": "a81fc4c7-6af6-4111-ba5f-7ae0cdeb39fb"
      },
      "execution_count": null,
      "outputs": [
        {
          "output_type": "stream",
          "name": "stdout",
          "text": [
            "Mounted at /content/drive\n"
          ]
        }
      ]
    },
    {
      "cell_type": "markdown",
      "source": [
        "# 3: Data preprocessing"
      ],
      "metadata": {
        "id": "N4i5_xidhuVJ"
      }
    },
    {
      "cell_type": "code",
      "source": [
        "# Reduce the dataset size to 1% for faster processing\n",
        "df = df.sample(frac=0.01, random_state=42)\n",
        "\n",
        "# Removing NaN Values\n",
        "df = df.dropna(subset=['comment'])\n",
        "\n",
        "# Ensure all comments are strings and handle NaN values\n",
        "df['comment'] = df['comment'].astype(str)\n",
        "df['comment'] = df['comment'].apply(lambda x: x if pd.notnull(x) else '')\n",
        "\n",
        "# Preprocess text\n",
        "def preprocess_text(text):\n",
        "    text = text.lower()\n",
        "    text = re.sub(r'[^\\w\\s]', '', text)\n",
        "    tokens = word_tokenize(text)\n",
        "    return tokens\n",
        "\n",
        "df['tokens'] = df['comment'].apply(preprocess_text)\n"
      ],
      "metadata": {
        "id": "5heqRHBogft5"
      },
      "execution_count": null,
      "outputs": []
    },
    {
      "cell_type": "markdown",
      "source": [
        " # Part 4: Training Word2Vec model and preparing embedding matrix"
      ],
      "metadata": {
        "id": "aNb7Yu0bh5Tk"
      }
    },
    {
      "cell_type": "code",
      "source": [
        "# Train Word2Vec model\n",
        "word2vec_model = Word2Vec(sentences=df['tokens'], vector_size=100, window=5, min_count=1, workers=4)\n",
        "word2vec_model.save(\"word2vec.model\")\n",
        "\n",
        "# Create a dictionary mapping words to their embeddings\n",
        "embedding_index = {}\n",
        "for word in word2vec_model.wv.index_to_key:\n",
        "    embedding_index[word] = word2vec_model.wv[word]\n",
        "\n",
        "# Prepare embedding matrix\n",
        "tokenizer = Tokenizer()\n",
        "tokenizer.fit_on_texts(df['tokens'])\n",
        "sequences = tokenizer.texts_to_sequences(df['tokens'])\n",
        "word_index = tokenizer.word_index\n",
        "max_sequence_length = max(len(x) for x in sequences)\n",
        "\n",
        "data = pad_sequences(sequences, maxlen=max_sequence_length)\n",
        "\n",
        "# Create embedding matrix\n",
        "embedding_dim = 100\n",
        "num_words = len(word_index) + 1\n",
        "embedding_matrix = np.zeros((num_words, embedding_dim))\n",
        "for word, i in word_index.items():\n",
        "    embedding_vector = embedding_index.get(word)\n",
        "    if embedding_vector is not None:\n",
        "        embedding_matrix[i] = embedding_vector\n"
      ],
      "metadata": {
        "id": "NDPHc71zgiX6"
      },
      "execution_count": null,
      "outputs": []
    },
    {
      "cell_type": "markdown",
      "source": [
        "# 5: Encoding labels and train-test split"
      ],
      "metadata": {
        "id": "UhuaSU9rh92Q"
      }
    },
    {
      "cell_type": "code",
      "source": [
        "# Encode labels\n",
        "label_encoder = LabelEncoder()\n",
        "labels = label_encoder.fit_transform(df['label'])\n",
        "\n",
        "# Train-test split\n",
        "X_train, X_test, y_train, y_test = train_test_split(data, labels, test_size=0.2, random_state=42)\n"
      ],
      "metadata": {
        "id": "aHeIudYCgkNq"
      },
      "execution_count": null,
      "outputs": []
    },
    {
      "cell_type": "markdown",
      "source": [
        "# 6: Building and training the LSTM model\n"
      ],
      "metadata": {
        "id": "kn8y68G-iCGX"
      }
    },
    {
      "cell_type": "code",
      "source": [
        "# Build the LSTM model\n",
        "model = Sequential()\n",
        "model.add(Embedding(input_dim=num_words,\n",
        "                    output_dim=embedding_dim,\n",
        "                    weights=[embedding_matrix],\n",
        "                    input_length=max_sequence_length,\n",
        "                    trainable=False))\n",
        "model.add(LSTM(units=128, return_sequences=True))\n",
        "model.add(LSTM(units=64))\n",
        "model.add(Dense(10, activation='relu'))\n",
        "model.add(Dropout(0.5))\n",
        "model.add(Dense(1, activation='sigmoid'))\n",
        "\n",
        "model.compile(optimizer='adam', loss='binary_crossentropy', metrics=['accuracy'])\n",
        "\n",
        "# Train the model\n",
        "history = model.fit(X_train, y_train, epochs=5, batch_size=32, validation_data=(X_test, y_test))\n",
        "\n",
        "# Evaluate the model\n",
        "loss, accuracy = model.evaluate(X_test, y_test)\n",
        "print(f'Accuracy: {accuracy}')\n",
        "\n",
        "# Classification report\n",
        "from sklearn.metrics import classification_report\n",
        "\n",
        "y_pred = (model.predict(X_test) > 0.5).astype(\"int32\")\n",
        "print(classification_report(y_test, y_pred))\n"
      ],
      "metadata": {
        "colab": {
          "base_uri": "https://localhost:8080/"
        },
        "id": "JEo8fRV8gsWA",
        "outputId": "8eda87cd-4687-456e-813b-8aeefc37062c"
      },
      "execution_count": null,
      "outputs": [
        {
          "output_type": "stream",
          "name": "stdout",
          "text": [
            "Epoch 1/5\n",
            "253/253 [==============================] - 76s 275ms/step - loss: 0.6914 - accuracy: 0.5136 - val_loss: 0.6874 - val_accuracy: 0.5579\n",
            "Epoch 2/5\n",
            "253/253 [==============================] - 65s 258ms/step - loss: 0.6899 - accuracy: 0.5200 - val_loss: 0.6880 - val_accuracy: 0.5391\n",
            "Epoch 3/5\n",
            "253/253 [==============================] - 82s 323ms/step - loss: 0.6897 - accuracy: 0.5252 - val_loss: 0.6878 - val_accuracy: 0.5584\n",
            "Epoch 4/5\n",
            "253/253 [==============================] - 67s 263ms/step - loss: 0.6902 - accuracy: 0.5223 - val_loss: 0.6862 - val_accuracy: 0.5589\n",
            "Epoch 5/5\n",
            "253/253 [==============================] - 71s 281ms/step - loss: 0.6901 - accuracy: 0.5262 - val_loss: 0.6863 - val_accuracy: 0.5603\n",
            "64/64 [==============================] - 5s 85ms/step - loss: 0.6863 - accuracy: 0.5603\n",
            "Accuracy: 0.5603362917900085\n",
            "64/64 [==============================] - 5s 68ms/step\n",
            "              precision    recall  f1-score   support\n",
            "\n",
            "           0       0.62      0.20      0.30       963\n",
            "           1       0.55      0.89      0.68      1059\n",
            "\n",
            "    accuracy                           0.56      2022\n",
            "   macro avg       0.59      0.54      0.49      2022\n",
            "weighted avg       0.58      0.56      0.50      2022\n",
            "\n"
          ]
        }
      ]
    },
    {
      "cell_type": "code",
      "source": [],
      "metadata": {
        "id": "U36iIOazgucJ"
      },
      "execution_count": null,
      "outputs": []
    }
  ]
}