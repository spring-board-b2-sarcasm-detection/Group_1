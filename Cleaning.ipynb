{
 "cells": [
  {
   "cell_type": "code",
   "execution_count": null,
   "id": "c1d0189e-636f-499e-b7ec-65fcdd482066",
   "metadata": {},
   "outputs": [],
   "source": [
    "# We'll use several data cleaning steps to clean our raw data and convert it to well formatted strings which are suitable for ML/DL models.\n",
    "# Data cleaning steps include:\n",
    "\n",
    "# remove nulls\n",
    "# Removal of URLs/links\n",
    "# Removal of HTML tags\n",
    "# Conversion to lower case strings\n",
    "# Remove words with numbers\n",
    "# Remove punctuations\n",
    "# Removal of whitespaces\n",
    "# Decontraction of words\n",
    "# Removal of emojis/emoticons"
   ]
  },
  {
   "cell_type": "code",
   "execution_count": 1,
   "id": "d395b042-0b55-42be-a055-cb799f145fd7",
   "metadata": {},
   "outputs": [],
   "source": [
    "import re\n",
    "import pandas as pd\n",
    "import emoji"
   ]
  },
  {
   "cell_type": "code",
   "execution_count": 8,
   "id": "3daaf56d-51b2-46b6-92ec-35c6d7176f21",
   "metadata": {},
   "outputs": [],
   "source": [
    "#creating functions\n",
    "def removeLinks(text):\n",
    "    text = re.sub(r'http\\S+', '', text, flags=re.MULTILINE)\n",
    "    return text\n",
    "\n",
    "def removeHTMLTags(text):\n",
    "    text = re.sub(r'<.*?>', '', text)\n",
    "    return text\n",
    "\n",
    "def convertToLowerCase(text):\n",
    "    return text.lower()\n",
    "\n",
    "def removePuctuations(text):\n",
    "    text = re.sub(r'[^\\w\\s]', '', text)\n",
    "    return text\n",
    "\n",
    "def remove_emoji(text):\n",
    "    return emoji.replace_emoji(text, replace='')\n",
    "\n",
    "def remove_emoticons(text):\n",
    "    emoticon_pattern = re.compile(r'(:\\)|:\\(|:D|:P|:\\*|;\\)|:\\||:-\\)|:-\\(|:-D|:-P|:-\\*|;-\\)|:O|:\\[|:\\]|:\\{|:\\}|:@|:\\$|8\\)|B\\)|<3|:\\^|\\):&|:-\\||:-\\$|:-&|:-o|:-O|:-@)')\n",
    "    return emoticon_pattern.sub(r'', text)\n",
    "    \n",
    "def removeWhiteSpaces(text):\n",
    "    return text.strip()"
   ]
  },
  {
   "cell_type": "code",
   "execution_count": 3,
   "id": "c6a8ac8d-ce1f-4494-8099-29cfd2de61b2",
   "metadata": {},
   "outputs": [],
   "source": [
    "def clean_data(text):\n",
    "    text = str(text)\n",
    "    text = removeLinks(text)\n",
    "    text = removeHTMLTags(text)\n",
    "    text = convertToLowerCase(text)\n",
    "    text = removePuctuations(text)\n",
    "    text = remove_emoji(text)\n",
    "    text = remove_emoticons(text)\n",
    "    text = text.strip()\n",
    "    return text"
   ]
  },
  {
   "cell_type": "code",
   "execution_count": 7,
   "id": "77e5d56c-2715-4df3-9143-b64d83190c94",
   "metadata": {},
   "outputs": [
    {
     "name": "stdout",
     "output_type": "stream",
     "text": [
      "         label                                            comment   \n",
      "0            0                                          nc and nh  \\\n",
      "1            0  you do know west teams play against west teams...   \n",
      "2            0  they were underdogs earlier today but since gr...   \n",
      "3            0  this meme isnt funny none of the new york nigg...   \n",
      "4            0                     i could use one of those tools   \n",
      "...        ...                                                ...   \n",
      "1010821      1  im sure that iran and n korea have the technol...   \n",
      "1010822      1                    whatever you do dont vote green   \n",
      "1010823      1  perhaps this is an atheist conspiracy to make ...   \n",
      "1010824      1  the slavs got their own country  it is called ...   \n",
      "1010825      1  values as in capitalism  there is good money i...   \n",
      "\n",
      "                 author           subreddit  score  ups  downs     date   \n",
      "0             Trumpbart            politics      2   -1     -1  2016-10  \\\n",
      "1             Shbshb906                 nba     -4   -1     -1  2016-11   \n",
      "2              Creepeth                 nfl      3    3      0  2016-09   \n",
      "3             icebrotha  BlackPeopleTwitter     -8   -1     -1  2016-10   \n",
      "4             cush2push  MaddenUltimateTeam      6   -1     -1  2016-12   \n",
      "...                 ...                 ...    ...  ...    ...      ...   \n",
      "1010821       TwarkMain          reddit.com      2    2      0  2009-04   \n",
      "1010822        BCHarvey             climate      1    1      0  2009-05   \n",
      "1010823  rebelcommander             atheism      1    1      0  2009-01   \n",
      "1010824           catsi           worldnews      1    1      0  2009-01   \n",
      "1010825        frogking            politics      2    2      0  2009-01   \n",
      "\n",
      "                 created_utc   \n",
      "0        2016-10-16 23:55:23  \\\n",
      "1        2016-11-01 00:24:10   \n",
      "2        2016-09-22 21:45:37   \n",
      "3        2016-10-18 21:03:47   \n",
      "4        2016-12-30 17:00:13   \n",
      "...                      ...   \n",
      "1010821  2009-04-25 00:47:52   \n",
      "1010822  2009-05-14 22:27:40   \n",
      "1010823  2009-01-11 00:22:57   \n",
      "1010824  2009-01-23 21:12:49   \n",
      "1010825  2009-01-24 06:20:14   \n",
      "\n",
      "                                            parent_comment  \n",
      "0        Yeah, I get that argument. At this point, I'd ...  \n",
      "1        The blazers and Mavericks (The wests 5 and 6 s...  \n",
      "2                                  They're favored to win.  \n",
      "3                               deadass don't kill my buzz  \n",
      "4        Yep can confirm I saw the tool they use for th...  \n",
      "...                                                    ...  \n",
      "1010821  No one is calling this an engineered pathogen,...  \n",
      "1010822  In a move typical of their recent do-nothing a...  \n",
      "1010823  Screw the Disabled--I've got to get to Church ...  \n",
      "1010824  I've always been unsettled by that. I hear a l...  \n",
      "1010825  Why do the people who make our laws seem unabl...  \n",
      "\n",
      "[1010771 rows x 10 columns]\n"
     ]
    }
   ],
   "source": [
    "train = pd.read_csv('/Users/jashanjeetsingh/Downloads/train-balanced-sarcasm.csv')\n",
    "\n",
    "# Dropping rows with missing values\n",
    "cleaned_train = train.dropna(how='any', axis=0)\n",
    "\n",
    "# Applying cleaning functions using .loc to avoid SettingWithCopyWarning error\n",
    "cleaned_train.loc[:, 'comment'] = cleaned_train['comment'].apply(clean_data)\n",
    "cleaned_train.loc[:, 'author'] = cleaned_train['author'].apply(removeWhiteSpaces)\n",
    "\n",
    "print(cleaned_train)"
   ]
  },
  {
   "cell_type": "code",
   "execution_count": 9,
   "id": "883c0655-6cef-4b0c-b5ae-0e0ef5d2b414",
   "metadata": {},
   "outputs": [],
   "source": [
    "#Jashan"
   ]
  }
 ],
 "metadata": {
  "kernelspec": {
   "display_name": "Python 3 (ipykernel)",
   "language": "python",
   "name": "python3"
  },
  "language_info": {
   "codemirror_mode": {
    "name": "ipython",
    "version": 3
   },
   "file_extension": ".py",
   "mimetype": "text/x-python",
   "name": "python",
   "nbconvert_exporter": "python",
   "pygments_lexer": "ipython3",
   "version": "3.11.1"
  }
 },
 "nbformat": 4,
 "nbformat_minor": 5
}
