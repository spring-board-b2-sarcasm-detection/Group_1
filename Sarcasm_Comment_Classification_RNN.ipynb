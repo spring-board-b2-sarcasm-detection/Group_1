{
  "nbformat": 4,
  "nbformat_minor": 0,
  "metadata": {
    "colab": {
      "provenance": []
    },
    "kernelspec": {
      "name": "python3",
      "display_name": "Python 3"
    },
    "language_info": {
      "name": "python"
    }
  },
  "cells": [
    {
      "cell_type": "code",
      "source": [
        "import pandas as pd\n",
        "import numpy as np\n",
        "import re\n",
        "import nltk\n",
        "from nltk.tokenize import word_tokenize\n",
        "from sklearn.model_selection import train_test_split\n",
        "from sklearn.preprocessing import LabelEncoder\n",
        "from sklearn.feature_extraction.text import TfidfVectorizer\n",
        "from tensorflow.keras.models import Sequential\n",
        "from tensorflow.keras.layers import SimpleRNN, Dense, Dropout\n",
        "from tensorflow.keras.preprocessing.sequence import pad_sequences\n",
        "\n",
        "# Download NLTK data for tokenization\n",
        "nltk.download('punkt')\n",
        "\n",
        "# Mount Google Drive to access the dataset\n",
        "from google.colab import drive\n",
        "drive.mount('/content/drive')\n",
        "\n",
        "# Define the file path to the dataset in Google Drive\n",
        "file_path = '/content/drive/My Drive/train-balanced-sarcasm.csv'\n",
        "\n",
        "# Load the dataset into a pandas DataFrame\n",
        "df = pd.read_csv(file_path)\n",
        "\n",
        "# Reduce the dataset size to 1% for faster processing\n",
        "df = df.sample(frac=0.01, random_state=42)\n",
        "\n",
        "# Remove rows with NaN values in the 'comment' column\n",
        "df = df.dropna(subset=['comment'])\n",
        "\n",
        "# Ensure all comments are strings and handle NaN values\n",
        "df['comment'] = df['comment'].astype(str)\n",
        "df['comment'] = df['comment'].apply(lambda x: x if pd.notnull(x) else '')\n",
        "\n",
        "# Preprocessing function to clean and tokenize text\n",
        "def preprocess_text(text):\n",
        "    # Convert text to lowercase\n",
        "    text = text.lower()\n",
        "    # Remove punctuation and non-alphanumeric characters\n",
        "    text = re.sub(r'[^\\w\\s]', '', text)\n",
        "    # Tokenize text\n",
        "    tokens = word_tokenize(text)\n",
        "    # Join tokens back into a single string\n",
        "    return ' '.join(tokens)\n",
        "\n",
        "# Apply preprocessing to the 'comment' column\n",
        "df['processed_comment'] = df['comment'].apply(preprocess_text)\n",
        "\n",
        "# TF-IDF vectorization to convert text data into numerical features\n",
        "tfidf_vectorizer = TfidfVectorizer(max_features=2000)\n",
        "X_tfidf = tfidf_vectorizer.fit_transform(df['processed_comment']).toarray()\n",
        "\n",
        "# Encode labels into binary values (0 or 1)\n",
        "label_encoder = LabelEncoder()\n",
        "y_encoded = label_encoder.fit_transform(df['label'])\n",
        "\n",
        "# Split the data into training and testing sets\n",
        "X_train, X_test, y_train, y_test = train_test_split(X_tfidf, y_encoded, test_size=0.2, random_state=42)\n",
        "\n",
        "# Reshape data to fit the input shape required by RNN\n",
        "max_sequence_length = X_tfidf.shape[1]\n",
        "X_train_reshaped = X_train.reshape((X_train.shape[0], max_sequence_length, 1))\n",
        "X_test_reshaped = X_test.reshape((X_test.shape[0], max_sequence_length, 1))\n",
        "\n",
        "# Build the RNN model\n",
        "model = Sequential()\n",
        "model.add(SimpleRNN(units=32, input_shape=(max_sequence_length, 1), return_sequences=False))  # RNN layer with 32 units\n",
        "model.add(Dropout(0.5))  # Dropout layer to prevent overfitting\n",
        "model.add(Dense(10, activation='relu'))  # Fully connected layer with ReLU activation\n",
        "model.add(Dropout(0.5))  # Another dropout layer\n",
        "model.add(Dense(1, activation='sigmoid'))  # Output layer with sigmoid activation for binary classification\n",
        "\n",
        "# Compile the model\n",
        "model.compile(optimizer='adam', loss='binary_crossentropy', metrics=['accuracy'])\n",
        "\n",
        "# Train the model\n",
        "history = model.fit(X_train_reshaped, y_train, epochs=2, batch_size=32, validation_data=(X_test_reshaped, y_test))\n",
        "\n",
        "# Evaluate the model on the test data\n",
        "loss, accuracy = model.evaluate(X_test_reshaped, y_test)\n",
        "print(f'Accuracy: {accuracy:.4f}')\n",
        "\n",
        "# Generate a classification report\n",
        "from sklearn.metrics import classification_report\n",
        "\n",
        "y_pred = (model.predict(X_test_reshaped) > 0.5).astype(\"int32\")\n",
        "print(classification_report(y_test, y_pred))\n"
      ],
      "metadata": {
        "colab": {
          "base_uri": "https://localhost:8080/"
        },
        "id": "egAvwK5Bawfb",
        "outputId": "1461b328-c692-4a5b-a776-48f3ba023bf4"
      },
      "execution_count": 2,
      "outputs": [
        {
          "output_type": "stream",
          "name": "stderr",
          "text": [
            "[nltk_data] Downloading package punkt to /root/nltk_data...\n",
            "[nltk_data]   Package punkt is already up-to-date!\n"
          ]
        },
        {
          "output_type": "stream",
          "name": "stdout",
          "text": [
            "Drive already mounted at /content/drive; to attempt to forcibly remount, call drive.mount(\"/content/drive\", force_remount=True).\n",
            "Epoch 1/2\n",
            "253/253 [==============================] - 79s 309ms/step - loss: 0.7012 - accuracy: 0.5067 - val_loss: 0.6953 - val_accuracy: 0.4832\n",
            "Epoch 2/2\n",
            "253/253 [==============================] - 74s 291ms/step - loss: 0.6992 - accuracy: 0.5064 - val_loss: 0.7014 - val_accuracy: 0.4763\n",
            "64/64 [==============================] - 6s 87ms/step - loss: 0.7014 - accuracy: 0.4763\n",
            "Accuracy: 0.4763\n",
            "64/64 [==============================] - 4s 66ms/step\n",
            "              precision    recall  f1-score   support\n",
            "\n",
            "           0       0.48      1.00      0.64       963\n",
            "           1       0.50      0.00      0.01      1059\n",
            "\n",
            "    accuracy                           0.48      2022\n",
            "   macro avg       0.49      0.50      0.33      2022\n",
            "weighted avg       0.49      0.48      0.31      2022\n",
            "\n"
          ]
        }
      ]
    },
    {
      "cell_type": "code",
      "source": [],
      "metadata": {
        "id": "cJwnpAvIddIb"
      },
      "execution_count": null,
      "outputs": []
    }
  ]
}