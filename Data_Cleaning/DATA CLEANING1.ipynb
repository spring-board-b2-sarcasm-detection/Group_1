{
 "cells": [
  {
   "cell_type": "markdown",
   "id": "c5192431-0ae0-468b-b1a6-f661902d0618",
   "metadata": {},
   "source": [
    "# DATA CLEANING"
   ]
  },
  {
   "cell_type": "code",
   "execution_count": 1,
   "id": "04b716ab-d75e-446f-ba64-6bf556e59f3b",
   "metadata": {},
   "outputs": [],
   "source": [
    "import pandas as pd"
   ]
  },
  {
   "cell_type": "code",
   "execution_count": 5,
   "id": "51bef83f-3445-4479-8d64-56b979dc9277",
   "metadata": {},
   "outputs": [],
   "source": [
    "df = pd.read_csv(\"C:\\\\Users\\\\guded\\\\OneDrive\\\\Desktop\\\\INFOSYS\\\\train-balanced-sarcasm.csv\")"
   ]
  },
  {
   "cell_type": "code",
   "execution_count": 6,
   "id": "6686471a-56cd-4651-866b-4da07559c532",
   "metadata": {},
   "outputs": [
    {
     "data": {
      "text/plain": [
       "label             0\n",
       "comment           0\n",
       "score             0\n",
       "ups               0\n",
       "downs             0\n",
       "parent_comment    0\n",
       "dtype: int64"
      ]
     },
     "execution_count": 6,
     "metadata": {},
     "output_type": "execute_result"
    }
   ],
   "source": [
    "df.isnull().sum()"
   ]
  },
  {
   "cell_type": "code",
   "execution_count": 16,
   "id": "b03158a7-6224-48bf-84c4-266f3282cfa9",
   "metadata": {},
   "outputs": [
    {
     "name": "stderr",
     "output_type": "stream",
     "text": [
      "[nltk_data] Downloading package stopwords to\n",
      "[nltk_data]     C:\\Users\\guded\\AppData\\Roaming\\nltk_data...\n",
      "[nltk_data]   Package stopwords is already up-to-date!\n"
     ]
    }
   ],
   "source": [
    "import pandas as pd\n",
    "import numpy as np\n",
    "import nltk\n",
    "from nltk.corpus import stopwords\n",
    "\n",
    "nltk.download('stopwords')\n",
    "stop_words = set(stopwords.words('english'))\n",
    "\n",
    "def remove_stopwords_vectorized(text_list):\n",
    "  \"\"\"\n",
    "  Removes stopwords from a list of strings using vectorization.\n",
    "\n",
    "  Args:\n",
    "      text_list (pd.Series): A pandas Series containing text data.\n",
    "\n",
    "  Returns:\n",
    "      pd.Series: A new pandas Series with stopwords removed for each comment.\n",
    "  \"\"\"\n",
    "  text_list = np.char.lower(text_list)  # Lowercase text for case-insensitive stopword removal\n",
    "  words = np.char.split(text_list)\n",
    "  mask = ~np.isin(words, stop_words)\n",
    "  return pd.Series([' '.join(w) for w in words[mask]])\n",
    "\n",
    "# Apply the function to the DataFrame\n",
    "df['cleaned_text'] = df['comment'].apply(remove_stopwords_vectorized)\n"
   ]
  },
  {
   "cell_type": "code",
   "execution_count": 17,
   "id": "c78004bb-f893-4c3c-9384-f5073db26a2d",
   "metadata": {},
   "outputs": [
    {
     "data": {
      "text/html": [
       "<div>\n",
       "<style scoped>\n",
       "    .dataframe tbody tr th:only-of-type {\n",
       "        vertical-align: middle;\n",
       "    }\n",
       "\n",
       "    .dataframe tbody tr th {\n",
       "        vertical-align: top;\n",
       "    }\n",
       "\n",
       "    .dataframe thead th {\n",
       "        text-align: right;\n",
       "    }\n",
       "</style>\n",
       "<table border=\"1\" class=\"dataframe\">\n",
       "  <thead>\n",
       "    <tr style=\"text-align: right;\">\n",
       "      <th></th>\n",
       "      <th>label</th>\n",
       "      <th>comment</th>\n",
       "      <th>score</th>\n",
       "      <th>ups</th>\n",
       "      <th>downs</th>\n",
       "      <th>parent_comment</th>\n",
       "      <th>cleaned_text</th>\n",
       "    </tr>\n",
       "  </thead>\n",
       "  <tbody>\n",
       "    <tr>\n",
       "      <th>0</th>\n",
       "      <td>0</td>\n",
       "      <td>NC and NH.</td>\n",
       "      <td>2</td>\n",
       "      <td>-1</td>\n",
       "      <td>-1</td>\n",
       "      <td>Yeah, I get that argument. At this point, I'd ...</td>\n",
       "      <td>nc and nh.</td>\n",
       "    </tr>\n",
       "    <tr>\n",
       "      <th>1</th>\n",
       "      <td>0</td>\n",
       "      <td>You do know west teams play against west teams...</td>\n",
       "      <td>-4</td>\n",
       "      <td>-1</td>\n",
       "      <td>-1</td>\n",
       "      <td>The blazers and Mavericks (The wests 5 and 6 s...</td>\n",
       "      <td>you do know west teams play against west teams...</td>\n",
       "    </tr>\n",
       "    <tr>\n",
       "      <th>2</th>\n",
       "      <td>0</td>\n",
       "      <td>They were underdogs earlier today, but since G...</td>\n",
       "      <td>3</td>\n",
       "      <td>3</td>\n",
       "      <td>0</td>\n",
       "      <td>They're favored to win.</td>\n",
       "      <td>they were underdogs earlier today, but since g...</td>\n",
       "    </tr>\n",
       "    <tr>\n",
       "      <th>3</th>\n",
       "      <td>0</td>\n",
       "      <td>This meme isn't funny none of the \"new york ni...</td>\n",
       "      <td>-8</td>\n",
       "      <td>-1</td>\n",
       "      <td>-1</td>\n",
       "      <td>deadass don't kill my buzz</td>\n",
       "      <td>this meme isn't funny none of the \"new york ni...</td>\n",
       "    </tr>\n",
       "    <tr>\n",
       "      <th>4</th>\n",
       "      <td>0</td>\n",
       "      <td>I could use one of those tools.</td>\n",
       "      <td>6</td>\n",
       "      <td>-1</td>\n",
       "      <td>-1</td>\n",
       "      <td>Yep can confirm I saw the tool they use for th...</td>\n",
       "      <td>i could use one of those tools.</td>\n",
       "    </tr>\n",
       "  </tbody>\n",
       "</table>\n",
       "</div>"
      ],
      "text/plain": [
       "   label                                            comment  score  ups  \\\n",
       "0      0                                         NC and NH.      2   -1   \n",
       "1      0  You do know west teams play against west teams...     -4   -1   \n",
       "2      0  They were underdogs earlier today, but since G...      3    3   \n",
       "3      0  This meme isn't funny none of the \"new york ni...     -8   -1   \n",
       "4      0                    I could use one of those tools.      6   -1   \n",
       "\n",
       "   downs                                     parent_comment  \\\n",
       "0     -1  Yeah, I get that argument. At this point, I'd ...   \n",
       "1     -1  The blazers and Mavericks (The wests 5 and 6 s...   \n",
       "2      0                            They're favored to win.   \n",
       "3     -1                         deadass don't kill my buzz   \n",
       "4     -1  Yep can confirm I saw the tool they use for th...   \n",
       "\n",
       "                                        cleaned_text  \n",
       "0                                         nc and nh.  \n",
       "1  you do know west teams play against west teams...  \n",
       "2  they were underdogs earlier today, but since g...  \n",
       "3  this meme isn't funny none of the \"new york ni...  \n",
       "4                    i could use one of those tools.  "
      ]
     },
     "execution_count": 17,
     "metadata": {},
     "output_type": "execute_result"
    }
   ],
   "source": [
    "df.head()"
   ]
  },
  {
   "cell_type": "code",
   "execution_count": 18,
   "id": "ee1058c1-1a77-4181-ac22-34303687285d",
   "metadata": {},
   "outputs": [],
   "source": [
    "#decontract words\n",
    "def decontracted(phrase):\n",
    "    \n",
    "    # specific\n",
    "    phrase = re.sub(r\"won\\'t\", \"will not\", phrase)\n",
    "    phrase = re.sub(r\"can\\'t\", \"can not\", phrase)\n",
    "\n",
    "    # general\n",
    "    phrase = re.sub(r\"n\\'t\", \" not\", phrase)\n",
    "    phrase = re.sub(r\"\\'re\", \" are\", phrase)\n",
    "    phrase = re.sub(r\"\\'s\", \" is\", phrase)\n",
    "    phrase = re.sub(r\"\\'d\", \" would\", phrase)\n",
    "    phrase = re.sub(r\"\\'ll\", \" will\", phrase)\n",
    "    phrase = re.sub(r\"\\'t\", \" not\", phrase)\n",
    "    phrase = re.sub(r\"\\'ve\", \" have\", phrase)\n",
    "    phrase = re.sub(r\"\\'m\", \" am\", phrase)\n",
    "    \n",
    "    return phrase"
   ]
  },
  {
   "cell_type": "code",
   "execution_count": 19,
   "id": "0bda9dab-6d6f-4668-9a57-c340bb0fd502",
   "metadata": {},
   "outputs": [],
   "source": [
    "def stopwords1(text):\n",
    "    new_list=[]\n",
    "    for word in text.split():\n",
    "        if word in stop_words:\n",
    "            new_list.append(\"\")\n",
    "        else:\n",
    "            new_list.append(word)\n",
    "\n",
    "    done=list(filter(None,new_list))\n",
    "    done=\" \".join(done)\n",
    "    \n",
    "    return done"
   ]
  },
  {
   "cell_type": "code",
   "execution_count": 20,
   "id": "cee3c017-e705-4e65-9f13-6ed09a67be88",
   "metadata": {},
   "outputs": [
    {
     "name": "stdout",
     "output_type": "stream",
     "text": [
      "Requirement already satisfied: emoji in c:\\users\\guded\\anaconda3\\lib\\site-packages (2.12.1)\n",
      "Requirement already satisfied: typing-extensions>=4.7.0 in c:\\users\\guded\\anaconda3\\lib\\site-packages (from emoji) (4.9.0)\n",
      "Note: you may need to restart the kernel to use updated packages.\n"
     ]
    }
   ],
   "source": [
    "pip install emoji"
   ]
  },
  {
   "cell_type": "code",
   "execution_count": 21,
   "id": "4a889259-248d-476e-b389-ce394313ccba",
   "metadata": {},
   "outputs": [
    {
     "name": "stdout",
     "output_type": "stream",
     "text": [
      "Requirement already satisfied: emoji in c:\\users\\guded\\anaconda3\\lib\\site-packages (2.12.1)\n",
      "Requirement already satisfied: typing-extensions>=4.7.0 in c:\\users\\guded\\anaconda3\\lib\\site-packages (from emoji) (4.9.0)\n",
      "Note: you may need to restart the kernel to use updated packages.\n"
     ]
    }
   ],
   "source": [
    "pip install --upgrade emoji"
   ]
  },
  {
   "cell_type": "code",
   "execution_count": 25,
   "id": "e463f6cf-67a6-4671-b245-b170550e6165",
   "metadata": {},
   "outputs": [
    {
     "name": "stdout",
     "output_type": "stream",
     "text": [
      "This text has  punctuation   and emojis I have removed all of them \n"
     ]
    }
   ],
   "source": [
    "import emoji\n",
    "\n",
    "import re  # Import the re module\n",
    "\n",
    "def remove_html(text):\n",
    "  \"\"\"Removes HTML tags from text.\"\"\"\n",
    "  return re.sub(r'<.*?>', \"\", text)\n",
    "\n",
    "def remove_punctuation(text):\n",
    "  \"\"\"Removes punctuation characters from text.\"\"\"\n",
    "  punctuation = \"\"\"!\"#$%&()*+, -./:;<=>?@[\\]^_`{|}~\"\"\"  \n",
    "  for char in punctuation:\n",
    "    text = text.replace(char, \" \")\n",
    "  return text\n",
    "\n",
    "def remove_numbers(text):\n",
    "  \"\"\"Removes digits (numbers) from text.\"\"\"\n",
    "  return re.sub(\"\\d+\", \"\", text)\n",
    "\n",
    "def remove_emoji(text):\n",
    "  \"\"\"Removes emojis from text using the emoji library.\"\"\"\n",
    "  return emoji.demojize(text)\n",
    "\n",
    "# Example usage\n",
    "text = \"This text has <html tags>,punctuation?! and emojis.I have removed all of them.\"\n",
    "\n",
    "cleaned_text = remove_html(text)\n",
    "cleaned_text = remove_punctuation(cleaned_text)\n",
    "cleaned_text = remove_numbers(cleaned_text)\n",
    "cleaned_text = remove_emoji(cleaned_text)\n",
    "\n",
    "print(cleaned_text)"
   ]
  },
  {
   "cell_type": "code",
   "execution_count": 26,
   "id": "42a9fcf2-92d6-406e-9cef-7b727ae62fe6",
   "metadata": {},
   "outputs": [
    {
     "data": {
      "text/html": [
       "<div>\n",
       "<style scoped>\n",
       "    .dataframe tbody tr th:only-of-type {\n",
       "        vertical-align: middle;\n",
       "    }\n",
       "\n",
       "    .dataframe tbody tr th {\n",
       "        vertical-align: top;\n",
       "    }\n",
       "\n",
       "    .dataframe thead th {\n",
       "        text-align: right;\n",
       "    }\n",
       "</style>\n",
       "<table border=\"1\" class=\"dataframe\">\n",
       "  <thead>\n",
       "    <tr style=\"text-align: right;\">\n",
       "      <th></th>\n",
       "      <th>label</th>\n",
       "      <th>comment</th>\n",
       "      <th>score</th>\n",
       "      <th>ups</th>\n",
       "      <th>downs</th>\n",
       "      <th>parent_comment</th>\n",
       "      <th>cleaned_text</th>\n",
       "    </tr>\n",
       "  </thead>\n",
       "  <tbody>\n",
       "    <tr>\n",
       "      <th>0</th>\n",
       "      <td>0</td>\n",
       "      <td>NC and NH.</td>\n",
       "      <td>2</td>\n",
       "      <td>-1</td>\n",
       "      <td>-1</td>\n",
       "      <td>Yeah, I get that argument. At this point, I'd ...</td>\n",
       "      <td>nc and nh.</td>\n",
       "    </tr>\n",
       "    <tr>\n",
       "      <th>1</th>\n",
       "      <td>0</td>\n",
       "      <td>You do know west teams play against west teams...</td>\n",
       "      <td>-4</td>\n",
       "      <td>-1</td>\n",
       "      <td>-1</td>\n",
       "      <td>The blazers and Mavericks (The wests 5 and 6 s...</td>\n",
       "      <td>you do know west teams play against west teams...</td>\n",
       "    </tr>\n",
       "    <tr>\n",
       "      <th>2</th>\n",
       "      <td>0</td>\n",
       "      <td>They were underdogs earlier today, but since G...</td>\n",
       "      <td>3</td>\n",
       "      <td>3</td>\n",
       "      <td>0</td>\n",
       "      <td>They're favored to win.</td>\n",
       "      <td>they were underdogs earlier today, but since g...</td>\n",
       "    </tr>\n",
       "    <tr>\n",
       "      <th>3</th>\n",
       "      <td>0</td>\n",
       "      <td>This meme isn't funny none of the \"new york ni...</td>\n",
       "      <td>-8</td>\n",
       "      <td>-1</td>\n",
       "      <td>-1</td>\n",
       "      <td>deadass don't kill my buzz</td>\n",
       "      <td>this meme isn't funny none of the \"new york ni...</td>\n",
       "    </tr>\n",
       "    <tr>\n",
       "      <th>4</th>\n",
       "      <td>0</td>\n",
       "      <td>I could use one of those tools.</td>\n",
       "      <td>6</td>\n",
       "      <td>-1</td>\n",
       "      <td>-1</td>\n",
       "      <td>Yep can confirm I saw the tool they use for th...</td>\n",
       "      <td>i could use one of those tools.</td>\n",
       "    </tr>\n",
       "  </tbody>\n",
       "</table>\n",
       "</div>"
      ],
      "text/plain": [
       "   label                                            comment  score  ups  \\\n",
       "0      0                                         NC and NH.      2   -1   \n",
       "1      0  You do know west teams play against west teams...     -4   -1   \n",
       "2      0  They were underdogs earlier today, but since G...      3    3   \n",
       "3      0  This meme isn't funny none of the \"new york ni...     -8   -1   \n",
       "4      0                    I could use one of those tools.      6   -1   \n",
       "\n",
       "   downs                                     parent_comment  \\\n",
       "0     -1  Yeah, I get that argument. At this point, I'd ...   \n",
       "1     -1  The blazers and Mavericks (The wests 5 and 6 s...   \n",
       "2      0                            They're favored to win.   \n",
       "3     -1                         deadass don't kill my buzz   \n",
       "4     -1  Yep can confirm I saw the tool they use for th...   \n",
       "\n",
       "                                        cleaned_text  \n",
       "0                                         nc and nh.  \n",
       "1  you do know west teams play against west teams...  \n",
       "2  they were underdogs earlier today, but since g...  \n",
       "3  this meme isn't funny none of the \"new york ni...  \n",
       "4                    i could use one of those tools.  "
      ]
     },
     "execution_count": 26,
     "metadata": {},
     "output_type": "execute_result"
    }
   ],
   "source": [
    "df.head()"
   ]
  },
  {
   "cell_type": "code",
   "execution_count": null,
   "id": "8246e477-d835-470f-b767-9d198e09267f",
   "metadata": {},
   "outputs": [],
   "source": []
  }
 ],
 "metadata": {
  "kernelspec": {
   "display_name": "Python 3 (ipykernel)",
   "language": "python",
   "name": "python3"
  },
  "language_info": {
   "codemirror_mode": {
    "name": "ipython",
    "version": 3
   },
   "file_extension": ".py",
   "mimetype": "text/x-python",
   "name": "python",
   "nbconvert_exporter": "python",
   "pygments_lexer": "ipython3",
   "version": "3.11.7"
  }
 },
 "nbformat": 4,
 "nbformat_minor": 5
}
